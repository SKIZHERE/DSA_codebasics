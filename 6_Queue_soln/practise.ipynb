{
 "cells": [
  {
   "cell_type": "code",
   "id": "initial_id",
   "metadata": {
    "collapsed": true,
    "ExecuteTime": {
     "end_time": "2025-07-21T11:48:30.344403Z",
     "start_time": "2025-07-21T11:48:30.341906Z"
    }
   },
   "source": "wmt_stock_price_queue = []",
   "outputs": [],
   "execution_count": 61
  },
  {
   "metadata": {
    "ExecuteTime": {
     "end_time": "2025-07-21T11:48:30.364344Z",
     "start_time": "2025-07-21T11:48:30.360932Z"
    }
   },
   "cell_type": "code",
   "source": [
    "wmt_stock_price_queue.insert(0,131.10)\n",
    "wmt_stock_price_queue.insert(0,132.12)\n",
    "wmt_stock_price_queue.insert(0,135)"
   ],
   "id": "39ba7ab7a57d6ab2",
   "outputs": [],
   "execution_count": 62
  },
  {
   "metadata": {
    "ExecuteTime": {
     "end_time": "2025-07-21T11:48:30.375485Z",
     "start_time": "2025-07-21T11:48:30.372354Z"
    }
   },
   "cell_type": "code",
   "source": "wmt_stock_price_queue",
   "id": "feb515f1aaeccef5",
   "outputs": [
    {
     "data": {
      "text/plain": [
       "[135, 132.12, 131.1]"
      ]
     },
     "execution_count": 63,
     "metadata": {},
     "output_type": "execute_result"
    }
   ],
   "execution_count": 63
  },
  {
   "metadata": {
    "ExecuteTime": {
     "end_time": "2025-07-21T11:48:40.978973Z",
     "start_time": "2025-07-21T11:48:40.940175Z"
    }
   },
   "cell_type": "code",
   "source": "wmt_stock_price_queue.pop()",
   "id": "8116a7d5d3e6e71a",
   "outputs": [
    {
     "ename": "IndexError",
     "evalue": "pop from empty list",
     "output_type": "error",
     "traceback": [
      "\u001B[31m---------------------------------------------------------------------------\u001B[39m",
      "\u001B[31mIndexError\u001B[39m                                Traceback (most recent call last)",
      "\u001B[36mCell\u001B[39m\u001B[36m \u001B[39m\u001B[32mIn[75]\u001B[39m\u001B[32m, line 1\u001B[39m\n\u001B[32m----> \u001B[39m\u001B[32m1\u001B[39m \u001B[43mwmt_stock_price_queue\u001B[49m\u001B[43m.\u001B[49m\u001B[43mpop\u001B[49m\u001B[43m(\u001B[49m\u001B[43m)\u001B[49m\n",
      "\u001B[31mIndexError\u001B[39m: pop from empty list"
     ]
    }
   ],
   "execution_count": 75
  },
  {
   "metadata": {
    "ExecuteTime": {
     "end_time": "2025-07-21T11:48:49.631412Z",
     "start_time": "2025-07-21T11:48:49.616484Z"
    }
   },
   "cell_type": "code",
   "source": "wmt_stock_price_queue.pop()",
   "id": "14bb22db91fd4019",
   "outputs": [
    {
     "ename": "IndexError",
     "evalue": "pop from empty list",
     "output_type": "error",
     "traceback": [
      "\u001B[31m---------------------------------------------------------------------------\u001B[39m",
      "\u001B[31mIndexError\u001B[39m                                Traceback (most recent call last)",
      "\u001B[36mCell\u001B[39m\u001B[36m \u001B[39m\u001B[32mIn[78]\u001B[39m\u001B[32m, line 1\u001B[39m\n\u001B[32m----> \u001B[39m\u001B[32m1\u001B[39m \u001B[43mwmt_stock_price_queue\u001B[49m\u001B[43m.\u001B[49m\u001B[43mpop\u001B[49m\u001B[43m(\u001B[49m\u001B[43m)\u001B[49m\n",
      "\u001B[31mIndexError\u001B[39m: pop from empty list"
     ]
    }
   ],
   "execution_count": 78
  },
  {
   "metadata": {
    "ExecuteTime": {
     "end_time": "2025-07-21T11:48:30.441588Z",
     "start_time": "2025-07-21T11:48:30.437830Z"
    }
   },
   "cell_type": "code",
   "source": "wmt_stock_price_queue.pop()",
   "id": "44b6be7c019a2ba5",
   "outputs": [
    {
     "data": {
      "text/plain": [
       "135"
      ]
     },
     "execution_count": 66,
     "metadata": {},
     "output_type": "execute_result"
    }
   ],
   "execution_count": 66
  },
  {
   "metadata": {
    "ExecuteTime": {
     "end_time": "2025-07-21T11:48:30.469144Z",
     "start_time": "2025-07-21T11:48:30.454186Z"
    }
   },
   "cell_type": "code",
   "source": "wmt_stock_price_queue.pop()",
   "id": "3668ecb37065120f",
   "outputs": [
    {
     "ename": "IndexError",
     "evalue": "pop from empty list",
     "output_type": "error",
     "traceback": [
      "\u001B[31m---------------------------------------------------------------------------\u001B[39m",
      "\u001B[31mIndexError\u001B[39m                                Traceback (most recent call last)",
      "\u001B[36mCell\u001B[39m\u001B[36m \u001B[39m\u001B[32mIn[67]\u001B[39m\u001B[32m, line 1\u001B[39m\n\u001B[32m----> \u001B[39m\u001B[32m1\u001B[39m \u001B[43mwmt_stock_price_queue\u001B[49m\u001B[43m.\u001B[49m\u001B[43mpop\u001B[49m\u001B[43m(\u001B[49m\u001B[43m)\u001B[49m\n",
      "\u001B[31mIndexError\u001B[39m: pop from empty list"
     ]
    }
   ],
   "execution_count": 67
  },
  {
   "metadata": {
    "ExecuteTime": {
     "end_time": "2025-07-21T11:48:40.133193Z",
     "start_time": "2025-07-21T11:48:40.130932Z"
    }
   },
   "cell_type": "code",
   "source": [
    "from collections import deque\n",
    "q = deque()"
   ],
   "id": "98ed1c9825b9255f",
   "outputs": [],
   "execution_count": 74
  },
  {
   "metadata": {
    "ExecuteTime": {
     "end_time": "2025-07-21T11:48:44.888257Z",
     "start_time": "2025-07-21T11:48:44.885971Z"
    }
   },
   "cell_type": "code",
   "source": [
    "q.appendleft(5)\n",
    "q.appendleft(9)\n",
    "q.appendleft(26)"
   ],
   "id": "4441ad4c33f23909",
   "outputs": [],
   "execution_count": 77
  },
  {
   "metadata": {
    "ExecuteTime": {
     "end_time": "2025-07-21T11:48:50.970093Z",
     "start_time": "2025-07-21T11:48:50.965652Z"
    }
   },
   "cell_type": "code",
   "source": "q.pop()",
   "id": "db4a175919efa03b",
   "outputs": [
    {
     "data": {
      "text/plain": [
       "5"
      ]
     },
     "execution_count": 79,
     "metadata": {},
     "output_type": "execute_result"
    }
   ],
   "execution_count": 79
  },
  {
   "metadata": {
    "ExecuteTime": {
     "end_time": "2025-07-21T11:48:53.794148Z",
     "start_time": "2025-07-21T11:48:53.789963Z"
    }
   },
   "cell_type": "code",
   "source": "q.pop()",
   "id": "7a1dfc97b18c5410",
   "outputs": [
    {
     "data": {
      "text/plain": [
       "9"
      ]
     },
     "execution_count": 80,
     "metadata": {},
     "output_type": "execute_result"
    }
   ],
   "execution_count": 80
  },
  {
   "metadata": {
    "ExecuteTime": {
     "end_time": "2025-07-21T11:48:54.808574Z",
     "start_time": "2025-07-21T11:48:54.804203Z"
    }
   },
   "cell_type": "code",
   "source": "q.pop()",
   "id": "f6c27df83691fca6",
   "outputs": [
    {
     "data": {
      "text/plain": [
       "26"
      ]
     },
     "execution_count": 81,
     "metadata": {},
     "output_type": "execute_result"
    }
   ],
   "execution_count": 81
  },
  {
   "metadata": {
    "ExecuteTime": {
     "end_time": "2025-07-21T11:48:56.233015Z",
     "start_time": "2025-07-21T11:48:56.215056Z"
    }
   },
   "cell_type": "code",
   "source": "q.pop()",
   "id": "bbe324c7d3c833d9",
   "outputs": [
    {
     "ename": "IndexError",
     "evalue": "pop from an empty deque",
     "output_type": "error",
     "traceback": [
      "\u001B[31m---------------------------------------------------------------------------\u001B[39m",
      "\u001B[31mIndexError\u001B[39m                                Traceback (most recent call last)",
      "\u001B[36mCell\u001B[39m\u001B[36m \u001B[39m\u001B[32mIn[82]\u001B[39m\u001B[32m, line 1\u001B[39m\n\u001B[32m----> \u001B[39m\u001B[32m1\u001B[39m \u001B[43mq\u001B[49m\u001B[43m.\u001B[49m\u001B[43mpop\u001B[49m\u001B[43m(\u001B[49m\u001B[43m)\u001B[49m\n",
      "\u001B[31mIndexError\u001B[39m: pop from an empty deque"
     ]
    }
   ],
   "execution_count": 82
  },
  {
   "metadata": {
    "ExecuteTime": {
     "end_time": "2025-07-21T11:48:57.800411Z",
     "start_time": "2025-07-21T11:48:57.797027Z"
    }
   },
   "cell_type": "code",
   "source": [
    "from collections import deque\n",
    "\n",
    "class Queue:\n",
    "    def __init__(self):\n",
    "        self.buffer = deque()\n",
    "\n",
    "    def enqueue(self, val):\n",
    "        self.buffer.appendleft(val)\n",
    "\n",
    "    def dequeue(self):\n",
    "        return self.buffer.pop()\n",
    "\n",
    "    def is_empty(self):\n",
    "        return len(self.buffer) == 0\n",
    "\n",
    "    def size(self):\n",
    "        return len(self.buffer)\n"
   ],
   "id": "6cc50182fdfca4f0",
   "outputs": [],
   "execution_count": 83
  },
  {
   "metadata": {
    "ExecuteTime": {
     "end_time": "2025-07-21T11:48:59.607998Z",
     "start_time": "2025-07-21T11:48:59.604726Z"
    }
   },
   "cell_type": "code",
   "source": [
    "pq = Queue()\n",
    "\n",
    "pq.enqueue({\n",
    "    'company': 'Wall Mart',\n",
    "    'timestamp': '15 apr, 11.01 AM',\n",
    "    'price': 131.10\n",
    "})\n",
    "pq.enqueue({\n",
    "    'company': 'Wall Mart',\n",
    "    'timestamp': '15 apr, 11.02 AM',\n",
    "    'price': 132\n",
    "})\n",
    "pq.enqueue({\n",
    "    'company': 'Wall Mart',\n",
    "    'timestamp': '15 apr, 11.03 AM',\n",
    "    'price': 135\n",
    "})"
   ],
   "id": "53d9c4a1c39736a5",
   "outputs": [],
   "execution_count": 84
  },
  {
   "metadata": {
    "ExecuteTime": {
     "end_time": "2025-07-21T11:50:12.921341Z",
     "start_time": "2025-07-21T11:50:12.917293Z"
    }
   },
   "cell_type": "code",
   "source": "pq.size()",
   "id": "fb9225ba61a237e9",
   "outputs": [
    {
     "data": {
      "text/plain": [
       "2"
      ]
     },
     "execution_count": 87,
     "metadata": {},
     "output_type": "execute_result"
    }
   ],
   "execution_count": 87
  },
  {
   "metadata": {
    "ExecuteTime": {
     "end_time": "2025-07-21T11:50:17.015546Z",
     "start_time": "2025-07-21T11:50:17.011247Z"
    }
   },
   "cell_type": "code",
   "source": "pq.buffer",
   "id": "10e50ef76d53d307",
   "outputs": [
    {
     "data": {
      "text/plain": [
       "deque([{'company': 'Wall Mart', 'timestamp': '15 apr, 11.03 AM', 'price': 135},\n",
       "       {'company': 'Wall Mart',\n",
       "        'timestamp': '15 apr, 11.02 AM',\n",
       "        'price': 132}])"
      ]
     },
     "execution_count": 88,
     "metadata": {},
     "output_type": "execute_result"
    }
   ],
   "execution_count": 88
  },
  {
   "metadata": {
    "ExecuteTime": {
     "end_time": "2025-07-21T11:50:18.361434Z",
     "start_time": "2025-07-21T11:50:18.357416Z"
    }
   },
   "cell_type": "code",
   "source": "pq.dequeue()",
   "id": "bce6fa26fe3c9d8b",
   "outputs": [
    {
     "data": {
      "text/plain": [
       "{'company': 'Wall Mart', 'timestamp': '15 apr, 11.02 AM', 'price': 132}"
      ]
     },
     "execution_count": 89,
     "metadata": {},
     "output_type": "execute_result"
    }
   ],
   "execution_count": 89
  }
 ],
 "metadata": {
  "kernelspec": {
   "display_name": "Python 3",
   "language": "python",
   "name": "python3"
  },
  "language_info": {
   "codemirror_mode": {
    "name": "ipython",
    "version": 2
   },
   "file_extension": ".py",
   "mimetype": "text/x-python",
   "name": "python",
   "nbconvert_exporter": "python",
   "pygments_lexer": "ipython2",
   "version": "2.7.6"
  }
 },
 "nbformat": 4,
 "nbformat_minor": 5
}
