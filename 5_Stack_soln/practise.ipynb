{
 "cells": [
  {
   "cell_type": "code",
   "execution_count": 8,
   "id": "initial_id",
   "metadata": {
    "ExecuteTime": {
     "end_time": "2025-07-13T01:30:07.122347Z",
     "start_time": "2025-07-13T01:30:07.119653Z"
    }
   },
   "outputs": [],
   "source": [
    "from collections import deque"
   ]
  },
  {
   "cell_type": "code",
   "execution_count": 9,
   "id": "673fbb9ee09ca00",
   "metadata": {
    "ExecuteTime": {
     "end_time": "2025-07-13T01:30:07.144495Z",
     "start_time": "2025-07-13T01:30:07.141397Z"
    }
   },
   "outputs": [],
   "source": [
    "stack = deque()"
   ]
  },
  {
   "cell_type": "code",
   "execution_count": 10,
   "id": "51212c6dc779f54c",
   "metadata": {
    "ExecuteTime": {
     "end_time": "2025-07-13T01:30:07.161609Z",
     "start_time": "2025-07-13T01:30:07.155876Z"
    }
   },
   "outputs": [
    {
     "data": {
      "text/plain": [
       "['__add__',\n",
       " '__class__',\n",
       " '__class_getitem__',\n",
       " '__contains__',\n",
       " '__copy__',\n",
       " '__delattr__',\n",
       " '__delitem__',\n",
       " '__dir__',\n",
       " '__doc__',\n",
       " '__eq__',\n",
       " '__format__',\n",
       " '__ge__',\n",
       " '__getattribute__',\n",
       " '__getitem__',\n",
       " '__getstate__',\n",
       " '__gt__',\n",
       " '__hash__',\n",
       " '__iadd__',\n",
       " '__imul__',\n",
       " '__init__',\n",
       " '__init_subclass__',\n",
       " '__iter__',\n",
       " '__le__',\n",
       " '__len__',\n",
       " '__lt__',\n",
       " '__mul__',\n",
       " '__ne__',\n",
       " '__new__',\n",
       " '__reduce__',\n",
       " '__reduce_ex__',\n",
       " '__repr__',\n",
       " '__reversed__',\n",
       " '__rmul__',\n",
       " '__setattr__',\n",
       " '__setitem__',\n",
       " '__sizeof__',\n",
       " '__str__',\n",
       " '__subclasshook__',\n",
       " 'append',\n",
       " 'appendleft',\n",
       " 'clear',\n",
       " 'copy',\n",
       " 'count',\n",
       " 'extend',\n",
       " 'extendleft',\n",
       " 'index',\n",
       " 'insert',\n",
       " 'maxlen',\n",
       " 'pop',\n",
       " 'popleft',\n",
       " 'remove',\n",
       " 'reverse',\n",
       " 'rotate']"
      ]
     },
     "execution_count": 10,
     "metadata": {},
     "output_type": "execute_result"
    }
   ],
   "source": [
    "dir(stack)\n"
   ]
  },
  {
   "cell_type": "code",
   "execution_count": 11,
   "id": "ed9fdf38-2f53-4ab0-8258-ec25bf7617de",
   "metadata": {},
   "outputs": [],
   "source": [
    "stack.append(\"cnn.com\")"
   ]
  },
  {
   "cell_type": "code",
   "execution_count": 12,
   "id": "2a8bf89e-bc23-4ac0-94b7-b73c879dc2f7",
   "metadata": {},
   "outputs": [
    {
     "data": {
      "text/plain": [
       "deque(['cnn.com'])"
      ]
     },
     "execution_count": 12,
     "metadata": {},
     "output_type": "execute_result"
    }
   ],
   "source": [
    "stack"
   ]
  },
  {
   "cell_type": "code",
   "execution_count": 13,
   "id": "8e5c5bb9-437c-4e88-9785-ec7accecbe2f",
   "metadata": {},
   "outputs": [],
   "source": [
    "stack.append(\"cnn.com/world\")"
   ]
  },
  {
   "cell_type": "code",
   "execution_count": 14,
   "id": "e18c2529-fbb3-4bdb-98d0-a499e9a29085",
   "metadata": {},
   "outputs": [
    {
     "data": {
      "text/plain": [
       "deque(['cnn.com', 'cnn.com/world', 'cnn.com/india', 'cnn.com/china'])"
      ]
     },
     "execution_count": 14,
     "metadata": {},
     "output_type": "execute_result"
    }
   ],
   "source": [
    "stack.append(\"cnn.com/india\")\n",
    "stack.append(\"cnn.com/china\")\n",
    "stack"
   ]
  },
  {
   "cell_type": "code",
   "execution_count": 15,
   "id": "18922b62-808e-457c-99da-0620e0485c33",
   "metadata": {},
   "outputs": [
    {
     "data": {
      "text/plain": [
       "'cnn.com/china'"
      ]
     },
     "execution_count": 15,
     "metadata": {},
     "output_type": "execute_result"
    }
   ],
   "source": [
    "stack.pop()"
   ]
  },
  {
   "cell_type": "code",
   "execution_count": 16,
   "id": "f22de11c-c9e3-43de-9c3e-7783fdd7ce2c",
   "metadata": {},
   "outputs": [
    {
     "data": {
      "text/plain": [
       "deque(['cnn.com', 'cnn.com/world', 'cnn.com/india'])"
      ]
     },
     "execution_count": 16,
     "metadata": {},
     "output_type": "execute_result"
    }
   ],
   "source": [
    "stack"
   ]
  },
  {
   "cell_type": "code",
   "id": "c6b4d17c-461c-4d2f-94c5-c39178b7d614",
   "metadata": {
    "ExecuteTime": {
     "end_time": "2025-07-13T01:39:38.564369Z",
     "start_time": "2025-07-13T01:39:38.560152Z"
    }
   },
   "source": [
    "class Stack:\n",
    "    def __init__(self):\n",
    "        self.container = deque()\n",
    "    def push(self, val):\n",
    "        self.container.append(val)\n",
    "    def pop(self):\n",
    "        return self.container.pop()\n",
    "    def peek(self):\n",
    "        return self.container[-1]\n",
    "    def is_empty(self):\n",
    "        return len(self.container) == 0\n",
    "    def size(self):\n",
    "        return len(self.container)"
   ],
   "outputs": [],
   "execution_count": 17
  },
  {
   "metadata": {
    "ExecuteTime": {
     "end_time": "2025-07-13T01:39:59.889173Z",
     "start_time": "2025-07-13T01:39:59.885847Z"
    }
   },
   "cell_type": "code",
   "source": [
    "s = Stack()\n",
    "s.push(5)"
   ],
   "id": "4830d51a36aa8ade",
   "outputs": [],
   "execution_count": 18
  },
  {
   "metadata": {
    "ExecuteTime": {
     "end_time": "2025-07-13T01:40:08.858905Z",
     "start_time": "2025-07-13T01:40:08.854584Z"
    }
   },
   "cell_type": "code",
   "source": "s.peek()",
   "id": "876bada06729d155",
   "outputs": [
    {
     "data": {
      "text/plain": [
       "5"
      ]
     },
     "execution_count": 19,
     "metadata": {},
     "output_type": "execute_result"
    }
   ],
   "execution_count": 19
  },
  {
   "metadata": {
    "ExecuteTime": {
     "end_time": "2025-07-13T01:40:19.195222Z",
     "start_time": "2025-07-13T01:40:19.192074Z"
    }
   },
   "cell_type": "code",
   "source": "s.pop()",
   "id": "1bbc8c6ba9a8011e",
   "outputs": [
    {
     "data": {
      "text/plain": [
       "5"
      ]
     },
     "execution_count": 20,
     "metadata": {},
     "output_type": "execute_result"
    }
   ],
   "execution_count": 20
  },
  {
   "metadata": {
    "ExecuteTime": {
     "end_time": "2025-07-13T01:40:25.627951Z",
     "start_time": "2025-07-13T01:40:25.406414Z"
    }
   },
   "cell_type": "code",
   "source": "s.pop()",
   "id": "2a9650a07a2a0cb3",
   "outputs": [
    {
     "ename": "IndexError",
     "evalue": "pop from an empty deque",
     "output_type": "error",
     "traceback": [
      "\u001B[31m---------------------------------------------------------------------------\u001B[39m",
      "\u001B[31mIndexError\u001B[39m                                Traceback (most recent call last)",
      "\u001B[36mCell\u001B[39m\u001B[36m \u001B[39m\u001B[32mIn[21]\u001B[39m\u001B[32m, line 1\u001B[39m\n\u001B[32m----> \u001B[39m\u001B[32m1\u001B[39m \u001B[43ms\u001B[49m\u001B[43m.\u001B[49m\u001B[43mpop\u001B[49m\u001B[43m(\u001B[49m\u001B[43m)\u001B[49m\n",
      "\u001B[36mCell\u001B[39m\u001B[36m \u001B[39m\u001B[32mIn[17]\u001B[39m\u001B[32m, line 7\u001B[39m, in \u001B[36mStack.pop\u001B[39m\u001B[34m(self)\u001B[39m\n\u001B[32m      6\u001B[39m \u001B[38;5;28;01mdef\u001B[39;00m\u001B[38;5;250m \u001B[39m\u001B[34mpop\u001B[39m(\u001B[38;5;28mself\u001B[39m):\n\u001B[32m----> \u001B[39m\u001B[32m7\u001B[39m     \u001B[38;5;28;01mreturn\u001B[39;00m \u001B[38;5;28;43mself\u001B[39;49m\u001B[43m.\u001B[49m\u001B[43mcontainer\u001B[49m\u001B[43m.\u001B[49m\u001B[43mpop\u001B[49m\u001B[43m(\u001B[49m\u001B[43m)\u001B[49m\n",
      "\u001B[31mIndexError\u001B[39m: pop from an empty deque"
     ]
    }
   ],
   "execution_count": 21
  },
  {
   "metadata": {
    "ExecuteTime": {
     "end_time": "2025-07-13T01:40:33.756263Z",
     "start_time": "2025-07-13T01:40:33.752272Z"
    }
   },
   "cell_type": "code",
   "source": "s.is_empty()",
   "id": "26ba3605b5d8a4dc",
   "outputs": [
    {
     "data": {
      "text/plain": [
       "True"
      ]
     },
     "execution_count": 22,
     "metadata": {},
     "output_type": "execute_result"
    }
   ],
   "execution_count": 22
  },
  {
   "metadata": {
    "ExecuteTime": {
     "end_time": "2025-07-13T01:41:21.782501Z",
     "start_time": "2025-07-13T01:41:21.779753Z"
    }
   },
   "cell_type": "code",
   "source": [
    "s.push(67)\n",
    "s.push(6)\n",
    "s.push(7)"
   ],
   "id": "624d0e0553890e5f",
   "outputs": [],
   "execution_count": 23
  },
  {
   "metadata": {
    "ExecuteTime": {
     "end_time": "2025-07-13T01:41:28.605714Z",
     "start_time": "2025-07-13T01:41:28.601831Z"
    }
   },
   "cell_type": "code",
   "source": "s.size()",
   "id": "182014b31915b61a",
   "outputs": [
    {
     "data": {
      "text/plain": [
       "3"
      ]
     },
     "execution_count": 24,
     "metadata": {},
     "output_type": "execute_result"
    }
   ],
   "execution_count": 24
  },
  {
   "metadata": {},
   "cell_type": "code",
   "outputs": [],
   "execution_count": null,
   "source": "",
   "id": "c17220780d794532"
  }
 ],
 "metadata": {
  "kernelspec": {
   "display_name": "Python 3 (ipykernel)",
   "language": "python",
   "name": "python3"
  },
  "language_info": {
   "codemirror_mode": {
    "name": "ipython",
    "version": 3
   },
   "file_extension": ".py",
   "mimetype": "text/x-python",
   "name": "python",
   "nbconvert_exporter": "python",
   "pygments_lexer": "ipython3",
   "version": "3.11.1"
  }
 },
 "nbformat": 4,
 "nbformat_minor": 5
}
